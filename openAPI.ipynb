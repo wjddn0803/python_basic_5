{
 "cells": [
  {
   "cell_type": "markdown",
   "id": "bc641b44",
   "metadata": {
    "id": "bc641b44"
   },
   "source": [
    "# 1.데이터 수집- OpenAPI 사용하기"
   ]
  },
  {
   "cell_type": "code",
   "execution_count": 14,
   "id": "aaa1f1eb-c493-4947-aa0e-e12117198d54",
   "metadata": {},
   "outputs": [
    {
     "name": "stdout",
     "output_type": "stream",
     "text": [
      "Request successful\n"
     ]
    },
    {
     "ename": "KeyError",
     "evalue": "'docs'",
     "output_type": "error",
     "traceback": [
      "\u001b[1;31m---------------------------------------------------------------------------\u001b[0m",
      "\u001b[1;31mKeyError\u001b[0m                                  Traceback (most recent call last)",
      "Cell \u001b[1;32mIn[14], line 28\u001b[0m\n\u001b[0;32m     19\u001b[0m data \u001b[38;5;241m=\u001b[39m json\u001b[38;5;241m.\u001b[39mloads(content_str)\n\u001b[0;32m     21\u001b[0m \u001b[38;5;66;03m# # Print the parsed JSON data\u001b[39;00m\n\u001b[0;32m     22\u001b[0m \u001b[38;5;66;03m#print(data)\u001b[39;00m\n\u001b[0;32m     23\u001b[0m \n\u001b[0;32m     24\u001b[0m \u001b[38;5;66;03m# books = []\u001b[39;00m\n\u001b[0;32m     25\u001b[0m \u001b[38;5;66;03m# for d in data['response']['docs']:\u001b[39;00m\n\u001b[0;32m     26\u001b[0m \u001b[38;5;66;03m#      books.append(d['doc'])\u001b[39;00m\n\u001b[1;32m---> 28\u001b[0m books \u001b[38;5;241m=\u001b[39m [d[\u001b[38;5;124m'\u001b[39m\u001b[38;5;124mdoc\u001b[39m\u001b[38;5;124m'\u001b[39m] \u001b[38;5;28;01mfor\u001b[39;00m d \u001b[38;5;129;01min\u001b[39;00m \u001b[43mdata\u001b[49m\u001b[43m[\u001b[49m\u001b[38;5;124;43m'\u001b[39;49m\u001b[38;5;124;43mresponse\u001b[39;49m\u001b[38;5;124;43m'\u001b[39;49m\u001b[43m]\u001b[49m\u001b[43m[\u001b[49m\u001b[38;5;124;43m'\u001b[39;49m\u001b[38;5;124;43mdocs\u001b[39;49m\u001b[38;5;124;43m'\u001b[39;49m\u001b[43m]\u001b[49m]\n\u001b[0;32m     30\u001b[0m \u001b[38;5;66;03m#6. 리스트를 이용하여 데이터프레임 생성: list -> DataFrame\u001b[39;00m\n\u001b[0;32m     31\u001b[0m books_df \u001b[38;5;241m=\u001b[39m pd\u001b[38;5;241m.\u001b[39mDataFrame(books)\n",
      "\u001b[1;31mKeyError\u001b[0m: 'docs'"
     ]
    }
   ],
   "source": [
    "import requests\n",
    "import pandas as pd\n",
    "import json\n",
    "\n",
    "url = \"http://data4library.kr/api/loanItemSrch?format=json&startDt=2023-01-01&endDt=2023-12-30&age=20&authKey=\\6ca8847794364ed2bddcbabdff3793bc34661e137a1056b9f646c7b6e841a899\"\n",
    "#페이지 로딩\n",
    "res = requests.get(url)\n",
    "\n",
    "if res.status_code == 200:\n",
    "    print(\"Request successful\")\n",
    "else:\n",
    "    print(\"Error:\", res.status_code)\n",
    "\n",
    "#print(res.text)\n",
    "\n",
    "# #3. Decode binary content to UTF-8 string\n",
    "content_str = res.content.decode('utf-8')\n",
    "\n",
    "# # Parse the JSON data\n",
    "data = json.loads(content_str)\n",
    "\n",
    "# # Print the parsed JSON data\n",
    "#print(data)\n",
    "\n",
    "# books = []\n",
    "# for d in data['response']['docs']:\n",
    "#      books.append(d['doc'])\n",
    "\n",
    "books = [d['doc'] for d in data['response']['docs']]\n",
    "\n",
    "#6. 리스트를 이용하여 데이터프레임 생성: list -> DataFrame\n",
    "books_df = pd.DataFrame(books)\n",
    "\n",
    "books_df.head()\n",
    "#7. dataFrame 객체를 json파일로 저장\n",
    "books_df.to_json('20s_best_book_2023.json')\n",
    "\n"
   ]
  },
  {
   "cell_type": "markdown",
   "id": "792f44fb",
   "metadata": {
    "id": "792f44fb"
   },
   "source": [
    "## 2. open api를 활용한 데이터셋은 데이터 가공 작업 - \"20대가 가장 좋아하는 도서목록\""
   ]
  },
  {
   "cell_type": "code",
   "execution_count": 15,
   "id": "6128a3fd",
   "metadata": {
    "colab": {
     "base_uri": "https://localhost:8080/",
     "height": 417
    },
    "id": "6128a3fd",
    "outputId": "89201b65-e66b-4af8-9af2-aad8cfe88706"
   },
   "outputs": [
    {
     "data": {
      "text/html": [
       "<div>\n",
       "<style scoped>\n",
       "    .dataframe tbody tr th:only-of-type {\n",
       "        vertical-align: middle;\n",
       "    }\n",
       "\n",
       "    .dataframe tbody tr th {\n",
       "        vertical-align: top;\n",
       "    }\n",
       "\n",
       "    .dataframe thead th {\n",
       "        text-align: right;\n",
       "    }\n",
       "</style>\n",
       "<table border=\"1\" class=\"dataframe\">\n",
       "  <thead>\n",
       "    <tr style=\"text-align: right;\">\n",
       "      <th></th>\n",
       "      <th>no</th>\n",
       "      <th>ranking</th>\n",
       "      <th>bookname</th>\n",
       "      <th>authors</th>\n",
       "      <th>publisher</th>\n",
       "      <th>publication_year</th>\n",
       "      <th>isbn13</th>\n",
       "      <th>addition_symbol</th>\n",
       "      <th>vol</th>\n",
       "      <th>class_no</th>\n",
       "      <th>class_nm</th>\n",
       "      <th>loan_count</th>\n",
       "      <th>bookImageURL</th>\n",
       "      <th>bookDtlUrl</th>\n",
       "    </tr>\n",
       "  </thead>\n",
       "  <tbody>\n",
       "    <tr>\n",
       "      <th>0</th>\n",
       "      <td>1</td>\n",
       "      <td>1</td>\n",
       "      <td>물고기는 존재하지 않는다 :상실, 사랑 그리고 숨어 있는 삶의 질서에 관한 이야기</td>\n",
       "      <td>룰루 밀러 지음 ;정지인 옮김</td>\n",
       "      <td>곰출판</td>\n",
       "      <td>2021</td>\n",
       "      <td>9791189327156</td>\n",
       "      <td>03400</td>\n",
       "      <td></td>\n",
       "      <td>490.99</td>\n",
       "      <td>자연과학 &gt; 동물학 &gt; 동물학</td>\n",
       "      <td>5909</td>\n",
       "      <td>https://image.aladin.co.kr/product/28465/73/co...</td>\n",
       "      <td>https://data4library.kr/bookV?seq=6360937</td>\n",
       "    </tr>\n",
       "    <tr>\n",
       "      <th>1</th>\n",
       "      <td>2</td>\n",
       "      <td>2</td>\n",
       "      <td>지구 끝의 온실 :김초엽 장편소설</td>\n",
       "      <td>지은이: 김초엽</td>\n",
       "      <td>Giant Books(자이언트북스)</td>\n",
       "      <td>2021</td>\n",
       "      <td>9791191824001</td>\n",
       "      <td>03810</td>\n",
       "      <td></td>\n",
       "      <td>813.7</td>\n",
       "      <td>문학 &gt; 한국문학 &gt; 소설</td>\n",
       "      <td>5186</td>\n",
       "      <td>https://image.aladin.co.kr/product/27692/63/co...</td>\n",
       "      <td>https://data4library.kr/bookV?seq=6065686</td>\n",
       "    </tr>\n",
       "    <tr>\n",
       "      <th>2</th>\n",
       "      <td>3</td>\n",
       "      <td>3</td>\n",
       "      <td>불편한 편의점 :김호연 장편소설</td>\n",
       "      <td>지은이: 김호연</td>\n",
       "      <td>나무옆의자</td>\n",
       "      <td>2021</td>\n",
       "      <td>9791161571188</td>\n",
       "      <td>03810</td>\n",
       "      <td></td>\n",
       "      <td>813.7</td>\n",
       "      <td>문학 &gt; 한국문학 &gt; 소설</td>\n",
       "      <td>5131</td>\n",
       "      <td>https://image.aladin.co.kr/product/26942/84/co...</td>\n",
       "      <td>https://data4library.kr/bookV?seq=5962217</td>\n",
       "    </tr>\n",
       "    <tr>\n",
       "      <th>3</th>\n",
       "      <td>4</td>\n",
       "      <td>4</td>\n",
       "      <td>달러구트 꿈 백화점 :이미예 장편소설</td>\n",
       "      <td>지은이: 이미예</td>\n",
       "      <td>팩토리나인</td>\n",
       "      <td>2020</td>\n",
       "      <td>9791165341909</td>\n",
       "      <td>03810</td>\n",
       "      <td></td>\n",
       "      <td>813.7</td>\n",
       "      <td>문학 &gt; 한국문학 &gt; 소설</td>\n",
       "      <td>5086</td>\n",
       "      <td>https://image.aladin.co.kr/product/24512/70/co...</td>\n",
       "      <td>https://data4library.kr/bookV?seq=5707051</td>\n",
       "    </tr>\n",
       "    <tr>\n",
       "      <th>4</th>\n",
       "      <td>5</td>\n",
       "      <td>5</td>\n",
       "      <td>우리가 빛의 속도로 갈 수 없다면 :김초엽 소설</td>\n",
       "      <td>지은이: 김초엽</td>\n",
       "      <td>허블</td>\n",
       "      <td>2019</td>\n",
       "      <td>9791190090018</td>\n",
       "      <td>03810</td>\n",
       "      <td></td>\n",
       "      <td>813.7</td>\n",
       "      <td>문학 &gt; 한국문학 &gt; 소설</td>\n",
       "      <td>4731</td>\n",
       "      <td>https://image.aladin.co.kr/product/19359/16/co...</td>\n",
       "      <td>https://data4library.kr/bookV?seq=5430429</td>\n",
       "    </tr>\n",
       "    <tr>\n",
       "      <th>...</th>\n",
       "      <td>...</td>\n",
       "      <td>...</td>\n",
       "      <td>...</td>\n",
       "      <td>...</td>\n",
       "      <td>...</td>\n",
       "      <td>...</td>\n",
       "      <td>...</td>\n",
       "      <td>...</td>\n",
       "      <td>...</td>\n",
       "      <td>...</td>\n",
       "      <td>...</td>\n",
       "      <td>...</td>\n",
       "      <td>...</td>\n",
       "      <td>...</td>\n",
       "    </tr>\n",
       "    <tr>\n",
       "      <th>195</th>\n",
       "      <td>196</td>\n",
       "      <td>196</td>\n",
       "      <td>멘탈을 바꿔야 인생이 바뀐다 :나의 잠재력을 최대로 끌어올려 100% 성공하는 삶을...</td>\n",
       "      <td>박세니 지음</td>\n",
       "      <td>바이포엠 스튜디오</td>\n",
       "      <td>2022</td>\n",
       "      <td>9791191043761</td>\n",
       "      <td>03190</td>\n",
       "      <td></td>\n",
       "      <td>325.211</td>\n",
       "      <td>사회과학 &gt; 경제학 &gt; 경영관리</td>\n",
       "      <td>1101</td>\n",
       "      <td>https://image.aladin.co.kr/product/29307/68/co...</td>\n",
       "      <td>https://data4library.kr/bookV?seq=6450204</td>\n",
       "    </tr>\n",
       "    <tr>\n",
       "      <th>196</th>\n",
       "      <td>197</td>\n",
       "      <td>197</td>\n",
       "      <td>나주에 대하여 :김화진 소설</td>\n",
       "      <td>지은이: 김화진</td>\n",
       "      <td>문학동네</td>\n",
       "      <td>2022</td>\n",
       "      <td>9788954688994</td>\n",
       "      <td>03810</td>\n",
       "      <td></td>\n",
       "      <td>813.7</td>\n",
       "      <td>문학 &gt; 한국문학 &gt; 소설</td>\n",
       "      <td>1096</td>\n",
       "      <td>https://image.aladin.co.kr/product/30347/9/cov...</td>\n",
       "      <td>https://data4library.kr/bookV?seq=6577033</td>\n",
       "    </tr>\n",
       "    <tr>\n",
       "      <th>197</th>\n",
       "      <td>198</td>\n",
       "      <td>198</td>\n",
       "      <td>(나를 숨 쉬게 하는) 보통의 언어들</td>\n",
       "      <td>김이나 지음</td>\n",
       "      <td>위즈덤하우스</td>\n",
       "      <td>2020</td>\n",
       "      <td>9791190786355</td>\n",
       "      <td>03810</td>\n",
       "      <td></td>\n",
       "      <td>818</td>\n",
       "      <td>문학 &gt; 한국문학 &gt; 르포르타주 및 기타</td>\n",
       "      <td>1094</td>\n",
       "      <td>https://image.aladin.co.kr/product/24088/61/co...</td>\n",
       "      <td>https://data4library.kr/bookV?seq=5671695</td>\n",
       "    </tr>\n",
       "    <tr>\n",
       "      <th>198</th>\n",
       "      <td>199</td>\n",
       "      <td>199</td>\n",
       "      <td>뉴서울파크 젤리장수 대학살 :조예은 장편소설</td>\n",
       "      <td>지은이: 조예은</td>\n",
       "      <td>안전가옥</td>\n",
       "      <td>2019</td>\n",
       "      <td>9791196347048</td>\n",
       "      <td>03810</td>\n",
       "      <td></td>\n",
       "      <td>813.7</td>\n",
       "      <td>문학 &gt; 한국문학 &gt; 소설</td>\n",
       "      <td>1089</td>\n",
       "      <td>https://image.aladin.co.kr/product/19539/29/co...</td>\n",
       "      <td>https://data4library.kr/bookV?seq=5435792</td>\n",
       "    </tr>\n",
       "    <tr>\n",
       "      <th>199</th>\n",
       "      <td>200</td>\n",
       "      <td>200</td>\n",
       "      <td>연금술사</td>\n",
       "      <td>파울로 코엘료 지음;최정수 옮김</td>\n",
       "      <td>문학동네</td>\n",
       "      <td>2001</td>\n",
       "      <td>9788982814471</td>\n",
       "      <td>03860</td>\n",
       "      <td></td>\n",
       "      <td>879</td>\n",
       "      <td>문학 &gt; 스페인문학 &gt; 포르투갈문학</td>\n",
       "      <td>1084</td>\n",
       "      <td>http://image.aladin.co.kr/product/30/73/cover/...</td>\n",
       "      <td>https://data4library.kr/bookV?seq=126479</td>\n",
       "    </tr>\n",
       "  </tbody>\n",
       "</table>\n",
       "<p>200 rows × 14 columns</p>\n",
       "</div>"
      ],
      "text/plain": [
       "      no  ranking                                           bookname  \\\n",
       "0      1        1     물고기는 존재하지 않는다 :상실, 사랑 그리고 숨어 있는 삶의 질서에 관한 이야기    \n",
       "1      2        2                                지구 끝의 온실 :김초엽 장편소설    \n",
       "2      3        3                                 불편한 편의점 :김호연 장편소설    \n",
       "3      4        4                               달러구트 꿈 백화점 :이미예 장편소설   \n",
       "4      5        5                        우리가 빛의 속도로 갈 수 없다면 :김초엽 소설    \n",
       "..   ...      ...                                                ...   \n",
       "195  196      196  멘탈을 바꿔야 인생이 바뀐다 :나의 잠재력을 최대로 끌어올려 100% 성공하는 삶을...   \n",
       "196  197      197                                   나주에 대하여 :김화진 소설    \n",
       "197  198      198                              (나를 숨 쉬게 하는) 보통의 언어들    \n",
       "198  199      199                          뉴서울파크 젤리장수 대학살 :조예은 장편소설    \n",
       "199  200      200                                               연금술사   \n",
       "\n",
       "               authors            publisher  publication_year         isbn13  \\\n",
       "0     룰루 밀러 지음 ;정지인 옮김                  곰출판              2021  9791189327156   \n",
       "1             지은이: 김초엽  Giant Books(자이언트북스)              2021  9791191824001   \n",
       "2             지은이: 김호연                나무옆의자              2021  9791161571188   \n",
       "3             지은이: 이미예                팩토리나인              2020  9791165341909   \n",
       "4             지은이: 김초엽                   허블              2019  9791190090018   \n",
       "..                 ...                  ...               ...            ...   \n",
       "195             박세니 지음            바이포엠 스튜디오              2022  9791191043761   \n",
       "196           지은이: 김화진                 문학동네              2022  9788954688994   \n",
       "197             김이나 지음               위즈덤하우스              2020  9791190786355   \n",
       "198           지은이: 조예은                 안전가옥              2019  9791196347048   \n",
       "199  파울로 코엘료 지음;최정수 옮김                 문학동네              2001  9788982814471   \n",
       "\n",
       "    addition_symbol vol class_no                class_nm  loan_count  \\\n",
       "0             03400       490.99        자연과학 > 동물학 > 동물학        5909   \n",
       "1             03810        813.7          문학 > 한국문학 > 소설        5186   \n",
       "2             03810        813.7          문학 > 한국문학 > 소설        5131   \n",
       "3             03810        813.7          문학 > 한국문학 > 소설        5086   \n",
       "4             03810        813.7          문학 > 한국문학 > 소설        4731   \n",
       "..              ...  ..      ...                     ...         ...   \n",
       "195           03190      325.211       사회과학 > 경제학 > 경영관리        1101   \n",
       "196           03810        813.7          문학 > 한국문학 > 소설        1096   \n",
       "197           03810          818  문학 > 한국문학 > 르포르타주 및 기타        1094   \n",
       "198           03810        813.7          문학 > 한국문학 > 소설        1089   \n",
       "199           03860          879     문학 > 스페인문학 > 포르투갈문학        1084   \n",
       "\n",
       "                                          bookImageURL  \\\n",
       "0    https://image.aladin.co.kr/product/28465/73/co...   \n",
       "1    https://image.aladin.co.kr/product/27692/63/co...   \n",
       "2    https://image.aladin.co.kr/product/26942/84/co...   \n",
       "3    https://image.aladin.co.kr/product/24512/70/co...   \n",
       "4    https://image.aladin.co.kr/product/19359/16/co...   \n",
       "..                                                 ...   \n",
       "195  https://image.aladin.co.kr/product/29307/68/co...   \n",
       "196  https://image.aladin.co.kr/product/30347/9/cov...   \n",
       "197  https://image.aladin.co.kr/product/24088/61/co...   \n",
       "198  https://image.aladin.co.kr/product/19539/29/co...   \n",
       "199  http://image.aladin.co.kr/product/30/73/cover/...   \n",
       "\n",
       "                                    bookDtlUrl  \n",
       "0    https://data4library.kr/bookV?seq=6360937  \n",
       "1    https://data4library.kr/bookV?seq=6065686  \n",
       "2    https://data4library.kr/bookV?seq=5962217  \n",
       "3    https://data4library.kr/bookV?seq=5707051  \n",
       "4    https://data4library.kr/bookV?seq=5430429  \n",
       "..                                         ...  \n",
       "195  https://data4library.kr/bookV?seq=6450204  \n",
       "196  https://data4library.kr/bookV?seq=6577033  \n",
       "197  https://data4library.kr/bookV?seq=5671695  \n",
       "198  https://data4library.kr/bookV?seq=5435792  \n",
       "199   https://data4library.kr/bookV?seq=126479  \n",
       "\n",
       "[200 rows x 14 columns]"
      ]
     },
     "execution_count": 15,
     "metadata": {},
     "output_type": "execute_result"
    }
   ],
   "source": [
    "# json file 로딩 -> dataFrame 객체 변환\n",
    "books_df = pd.read_json('20s_best_book_2023.json')\n",
    "books_df\n"
   ]
  },
  {
   "cell_type": "code",
   "execution_count": 16,
   "id": "2c3b1962",
   "metadata": {
    "colab": {
     "base_uri": "https://localhost:8080/",
     "height": 206
    },
    "id": "2c3b1962",
    "outputId": "3a8da6a5-3968-42fc-95ff-4ed83f0901a2"
   },
   "outputs": [
    {
     "data": {
      "text/html": [
       "<div>\n",
       "<style scoped>\n",
       "    .dataframe tbody tr th:only-of-type {\n",
       "        vertical-align: middle;\n",
       "    }\n",
       "\n",
       "    .dataframe tbody tr th {\n",
       "        vertical-align: top;\n",
       "    }\n",
       "\n",
       "    .dataframe thead th {\n",
       "        text-align: right;\n",
       "    }\n",
       "</style>\n",
       "<table border=\"1\" class=\"dataframe\">\n",
       "  <thead>\n",
       "    <tr style=\"text-align: right;\">\n",
       "      <th></th>\n",
       "      <th>no</th>\n",
       "      <th>ranking</th>\n",
       "      <th>bookname</th>\n",
       "      <th>authors</th>\n",
       "      <th>publisher</th>\n",
       "      <th>publication_year</th>\n",
       "      <th>isbn13</th>\n",
       "    </tr>\n",
       "  </thead>\n",
       "  <tbody>\n",
       "    <tr>\n",
       "      <th>0</th>\n",
       "      <td>1</td>\n",
       "      <td>1</td>\n",
       "      <td>물고기는 존재하지 않는다 :상실, 사랑 그리고 숨어 있는 삶의 질서에 관한 이야기</td>\n",
       "      <td>룰루 밀러 지음 ;정지인 옮김</td>\n",
       "      <td>곰출판</td>\n",
       "      <td>2021</td>\n",
       "      <td>9791189327156</td>\n",
       "    </tr>\n",
       "    <tr>\n",
       "      <th>1</th>\n",
       "      <td>2</td>\n",
       "      <td>2</td>\n",
       "      <td>지구 끝의 온실 :김초엽 장편소설</td>\n",
       "      <td>지은이: 김초엽</td>\n",
       "      <td>Giant Books(자이언트북스)</td>\n",
       "      <td>2021</td>\n",
       "      <td>9791191824001</td>\n",
       "    </tr>\n",
       "    <tr>\n",
       "      <th>2</th>\n",
       "      <td>3</td>\n",
       "      <td>3</td>\n",
       "      <td>불편한 편의점 :김호연 장편소설</td>\n",
       "      <td>지은이: 김호연</td>\n",
       "      <td>나무옆의자</td>\n",
       "      <td>2021</td>\n",
       "      <td>9791161571188</td>\n",
       "    </tr>\n",
       "    <tr>\n",
       "      <th>3</th>\n",
       "      <td>4</td>\n",
       "      <td>4</td>\n",
       "      <td>달러구트 꿈 백화점 :이미예 장편소설</td>\n",
       "      <td>지은이: 이미예</td>\n",
       "      <td>팩토리나인</td>\n",
       "      <td>2020</td>\n",
       "      <td>9791165341909</td>\n",
       "    </tr>\n",
       "    <tr>\n",
       "      <th>4</th>\n",
       "      <td>5</td>\n",
       "      <td>5</td>\n",
       "      <td>우리가 빛의 속도로 갈 수 없다면 :김초엽 소설</td>\n",
       "      <td>지은이: 김초엽</td>\n",
       "      <td>허블</td>\n",
       "      <td>2019</td>\n",
       "      <td>9791190090018</td>\n",
       "    </tr>\n",
       "  </tbody>\n",
       "</table>\n",
       "</div>"
      ],
      "text/plain": [
       "   no  ranking                                        bookname  \\\n",
       "0   1        1  물고기는 존재하지 않는다 :상실, 사랑 그리고 숨어 있는 삶의 질서에 관한 이야기    \n",
       "1   2        2                             지구 끝의 온실 :김초엽 장편소설    \n",
       "2   3        3                              불편한 편의점 :김호연 장편소설    \n",
       "3   4        4                            달러구트 꿈 백화점 :이미예 장편소설   \n",
       "4   5        5                     우리가 빛의 속도로 갈 수 없다면 :김초엽 소설    \n",
       "\n",
       "            authors            publisher  publication_year         isbn13  \n",
       "0  룰루 밀러 지음 ;정지인 옮김                  곰출판              2021  9791189327156  \n",
       "1          지은이: 김초엽  Giant Books(자이언트북스)              2021  9791191824001  \n",
       "2          지은이: 김호연                나무옆의자              2021  9791161571188  \n",
       "3          지은이: 이미예                팩토리나인              2020  9791165341909  \n",
       "4          지은이: 김초엽                   허블              2019  9791190090018  "
      ]
     },
     "execution_count": 16,
     "metadata": {},
     "output_type": "execute_result"
    }
   ],
   "source": [
    "# 특정 열을 선택하여 새 데이터프레임 생성 - 컬럼 인덱싱 이용\n",
    "books_df.columns\n",
    "books = books_df[['no','ranking','bookname','authors','publisher','publication_year','isbn13']]\n",
    "books.head()"
   ]
  },
  {
   "cell_type": "code",
   "execution_count": null,
   "id": "a670c59b",
   "metadata": {
    "colab": {
     "base_uri": "https://localhost:8080/",
     "height": 112
    },
    "id": "a670c59b",
    "outputId": "b3870170-65bc-423d-898a-9d0646fa46fa"
   },
   "outputs": [],
   "source": [
    "# 원하는 데이터프레임 행과 열 동시에 선택하기 - df.loc[]\n",
    "books_df.loc[[0,1], ['bookname','authors']]"
   ]
  },
  {
   "cell_type": "code",
   "execution_count": 17,
   "id": "b9bcb956",
   "metadata": {
    "colab": {
     "base_uri": "https://localhost:8080/",
     "height": 206
    },
    "id": "b9bcb956",
    "outputId": "174cdb65-354e-48c3-e99d-cd694897af80"
   },
   "outputs": [
    {
     "data": {
      "text/html": [
       "<div>\n",
       "<style scoped>\n",
       "    .dataframe tbody tr th:only-of-type {\n",
       "        vertical-align: middle;\n",
       "    }\n",
       "\n",
       "    .dataframe tbody tr th {\n",
       "        vertical-align: top;\n",
       "    }\n",
       "\n",
       "    .dataframe thead th {\n",
       "        text-align: right;\n",
       "    }\n",
       "</style>\n",
       "<table border=\"1\" class=\"dataframe\">\n",
       "  <thead>\n",
       "    <tr style=\"text-align: right;\">\n",
       "      <th></th>\n",
       "      <th>no</th>\n",
       "      <th>ranking</th>\n",
       "      <th>bookname</th>\n",
       "      <th>authors</th>\n",
       "      <th>publisher</th>\n",
       "      <th>publication_year</th>\n",
       "      <th>isbn13</th>\n",
       "    </tr>\n",
       "  </thead>\n",
       "  <tbody>\n",
       "    <tr>\n",
       "      <th>0</th>\n",
       "      <td>1</td>\n",
       "      <td>1</td>\n",
       "      <td>물고기는 존재하지 않는다 :상실, 사랑 그리고 숨어 있는 삶의 질서에 관한 이야기</td>\n",
       "      <td>룰루 밀러 지음 ;정지인 옮김</td>\n",
       "      <td>곰출판</td>\n",
       "      <td>2021</td>\n",
       "      <td>9791189327156</td>\n",
       "    </tr>\n",
       "    <tr>\n",
       "      <th>1</th>\n",
       "      <td>2</td>\n",
       "      <td>2</td>\n",
       "      <td>지구 끝의 온실 :김초엽 장편소설</td>\n",
       "      <td>지은이: 김초엽</td>\n",
       "      <td>Giant Books(자이언트북스)</td>\n",
       "      <td>2021</td>\n",
       "      <td>9791191824001</td>\n",
       "    </tr>\n",
       "    <tr>\n",
       "      <th>2</th>\n",
       "      <td>3</td>\n",
       "      <td>3</td>\n",
       "      <td>불편한 편의점 :김호연 장편소설</td>\n",
       "      <td>지은이: 김호연</td>\n",
       "      <td>나무옆의자</td>\n",
       "      <td>2021</td>\n",
       "      <td>9791161571188</td>\n",
       "    </tr>\n",
       "    <tr>\n",
       "      <th>3</th>\n",
       "      <td>4</td>\n",
       "      <td>4</td>\n",
       "      <td>달러구트 꿈 백화점 :이미예 장편소설</td>\n",
       "      <td>지은이: 이미예</td>\n",
       "      <td>팩토리나인</td>\n",
       "      <td>2020</td>\n",
       "      <td>9791165341909</td>\n",
       "    </tr>\n",
       "    <tr>\n",
       "      <th>4</th>\n",
       "      <td>5</td>\n",
       "      <td>5</td>\n",
       "      <td>우리가 빛의 속도로 갈 수 없다면 :김초엽 소설</td>\n",
       "      <td>지은이: 김초엽</td>\n",
       "      <td>허블</td>\n",
       "      <td>2019</td>\n",
       "      <td>9791190090018</td>\n",
       "    </tr>\n",
       "  </tbody>\n",
       "</table>\n",
       "</div>"
      ],
      "text/plain": [
       "   no  ranking                                        bookname  \\\n",
       "0   1        1  물고기는 존재하지 않는다 :상실, 사랑 그리고 숨어 있는 삶의 질서에 관한 이야기    \n",
       "1   2        2                             지구 끝의 온실 :김초엽 장편소설    \n",
       "2   3        3                              불편한 편의점 :김호연 장편소설    \n",
       "3   4        4                            달러구트 꿈 백화점 :이미예 장편소설   \n",
       "4   5        5                     우리가 빛의 속도로 갈 수 없다면 :김초엽 소설    \n",
       "\n",
       "            authors            publisher  publication_year         isbn13  \n",
       "0  룰루 밀러 지음 ;정지인 옮김                  곰출판              2021  9791189327156  \n",
       "1          지은이: 김초엽  Giant Books(자이언트북스)              2021  9791191824001  \n",
       "2          지은이: 김호연                나무옆의자              2021  9791161571188  \n",
       "3          지은이: 이미예                팩토리나인              2020  9791165341909  \n",
       "4          지은이: 김초엽                   허블              2019  9791190090018  "
      ]
     },
     "execution_count": 17,
     "metadata": {},
     "output_type": "execute_result"
    }
   ],
   "source": [
    "# 원하는 데이터프레임 행과 열 동시에 슬라이싱으로 선택하기 - df.loc[:,:]\n",
    "books = books_df.loc[:, 'no':'isbn13']\n",
    "books.head()"
   ]
  },
  {
   "cell_type": "markdown",
   "id": "ff775d45-1f20-4e62-a86f-66bfe30a0bb4",
   "metadata": {},
   "source": [
    "## 3.각 도서별 페이지수 찾기 : HTML에서 데이터 추출하기 - BeautifulSoup\n",
    "    1. 크롬 브라우저 개발자 도구로 HTML 태그 찾기\n",
    "    2. 태그 위치 찾기 : soup.find('찾을 태그 이름',attrs={'태그 속성을 딕셔너리로 지정'} \n",
    "    3. soup.select()\n",
    "    "
   ]
  },
  {
   "cell_type": "markdown",
   "id": "e8b139b1-c72c-4553-ae65-92c8574ce8e6",
   "metadata": {},
   "source": [
    "### [문제] BeautifulSoup으로 HTML에서 첫 번째 도서명의 링크 주소 찾기\n",
    "* 타겟 웹페이지 : https://www.yes24.com/Product/Search?query=9791189327156 # '물고기는 존재하지 않는다'의 ISBN"
   ]
  },
  {
   "cell_type": "code",
   "execution_count": null,
   "id": "077d748b",
   "metadata": {
    "id": "077d748b"
   },
   "outputs": [],
   "source": [
    "from bs4 import BeautifulSoup\n",
    "import requests"
   ]
  },
  {
   "cell_type": "code",
   "execution_count": null,
   "id": "579a0854",
   "metadata": {
    "id": "579a0854"
   },
   "outputs": [],
   "source": [
    "isbn = 9791189327156\n",
    "#isbn = 74261416\n",
    "url = 'https://www.yes24.com/Product/Search?query={}'\n",
    "r = requests.get(url.format(isbn))\n",
    "soup = BeautifulSoup(r.text, 'html.parser')\n",
    "prd_link = soup.find('a', attrs={'class':'gd_name'})\n",
    "print(prd_link)\n",
    "print(prd_link['href'])"
   ]
  },
  {
   "cell_type": "markdown",
   "id": "54f7ad41-fe01-4d3c-876b-13c85ec6a840",
   "metadata": {},
   "source": [
    "### [문제] BeautifulSoup으로 HTML에서 첫 번째 도서의 페이지수가 담긴 HTML의 위치 찾기\n",
    "* 타겟 웹페이지 : https://www.yes24.com/Product/Goods/105526047\n",
    "* soup.select()"
   ]
  },
  {
   "cell_type": "code",
   "execution_count": null,
   "id": "27-HqVCH3wBP",
   "metadata": {
    "colab": {
     "base_uri": "https://localhost:8080/"
    },
    "id": "27-HqVCH3wBP",
    "outputId": "a80c2396-08b3-49bd-ba6f-06f096bc4f9d"
   },
   "outputs": [],
   "source": [
    "# soup.select()\n",
    "url = 'https://www.yes24.com/Product/Goods/105526047'\n",
    "r= requests.get(url)\n",
    "soup = BeautifulSoup(r.text, 'html.parser')\n",
    "prd_detail= soup.select('#infoset_specific > div.infoSetCont_wrap > div > table > tbody > tr:nth-child(2) > td')\n",
    "print(prd_detail)\n",
    "if prd_detail is not None:\n",
    "    page = prd_detail[0].text.split('|')[0]\n",
    "    print(page)\n",
    "else:\n",
    "    print(\"The element you're trying to select doesn't exist.\")\n"
   ]
  },
  {
   "cell_type": "markdown",
   "id": "880d52a6",
   "metadata": {
    "id": "880d52a6"
   },
   "source": [
    "### [문제]  20대가 선호하는 전체 도서의 쪽수 구하기 "
   ]
  },
  {
   "cell_type": "code",
   "execution_count": null,
   "id": "d267046f",
   "metadata": {
    "id": "d267046f"
   },
   "outputs": [],
   "source": [
    "#1. 사용자 정의 함수\n",
    "def get_page_cnt(isbn):\n",
    "    # Yes24 도서 검색 페이지 URL\n",
    "    url = 'https://www.yes24.com/Product/Search?query={}'\n",
    "    # URL에 ISBN을 넣어 HTML 가져오기.\n",
    "    r = requests.get(url.format(isbn))\n",
    "    soup = BeautifulSoup(r.text, 'html.parser')   \n",
    "    # 검색 결과에서 해당 도서를 선택하기.\n",
    "    prd_info = soup.find('a', attrs={'class':'gd_name'})\n",
    "    if prd_info == None:\n",
    "        return ''\n",
    "    # 도서 상세 페이지를 가져오기.\n",
    "    url = 'http://www.yes24.com'+prd_info['href']\n",
    "    r = requests.get(url)\n",
    "    soup = BeautifulSoup(r.text, 'html.parser')\n",
    "    \n",
    "    # 쪽수가 들어 있는 td를 찾기.\n",
    "    prd_detail= soup.select('#infoset_specific > div.infoSetCont_wrap > div > table > tbody > tr:nth-child(2) > td')\n",
    "    # print(prd_detail)\n",
    "    result = prd_detail[0]\n",
    "    page = result.text.split('|')[0]\n",
    "    return page\n",
    "    "
   ]
  },
  {
   "cell_type": "code",
   "execution_count": null,
   "id": "cd7c9941",
   "metadata": {
    "colab": {
     "base_uri": "https://localhost:8080/",
     "height": 36
    },
    "id": "cd7c9941",
    "outputId": "a9d7fb91-1d91-49bb-85ac-7aa766cfe210"
   },
   "outputs": [],
   "source": [
    "get_page_cnt(9791189327156)"
   ]
  },
  {
   "cell_type": "code",
   "execution_count": null,
   "id": "da739a0a",
   "metadata": {
    "id": "da739a0a"
   },
   "outputs": [],
   "source": [
    "top10_books = books.head(10) # 인기 도서 10권 추출\n",
    "top10_books"
   ]
  },
  {
   "cell_type": "code",
   "execution_count": null,
   "id": "0bff8104",
   "metadata": {
    "id": "0bff8104"
   },
   "outputs": [],
   "source": [
    "# 10개 도서의 쪽수를 한번에 구하기\n",
    "def get_page_cnt2(row):\n",
    "    isbn = row['isbn13']\n",
    "    return get_page_cnt(isbn)"
   ]
  },
  {
   "cell_type": "code",
   "execution_count": null,
   "id": "fb638a9b",
   "metadata": {
    "colab": {
     "base_uri": "https://localhost:8080/"
    },
    "id": "fb638a9b",
    "outputId": "08d69c61-4760-4bb2-a337-f3c8db64c9b3"
   },
   "outputs": [],
   "source": [
    "# 각 행의 반복 작업을 수행하기 위해 데이터프레임의 apply()메서드 적용\n",
    "page_count = top10_books.apply(get_page_cnt2, axis = 1)\n",
    "print(page_count)"
   ]
  },
  {
   "cell_type": "markdown",
   "id": "a016b2f3-cd54-4475-8a9a-5a1a081d96dc",
   "metadata": {},
   "source": [
    "### [문제]  top10_books와 쪽수 시리즈 합치기 : merge()"
   ]
  },
  {
   "cell_type": "code",
   "execution_count": null,
   "id": "85375062",
   "metadata": {
    "colab": {
     "base_uri": "https://localhost:8080/"
    },
    "id": "85375062",
    "outputId": "3de08f1c-241c-4c17-8735-1c682544a01a"
   },
   "outputs": [],
   "source": [
    "# 쪽수 데이터프레임 생성\n",
    "type(page_count)\n",
    "page_count.name = 'page_count'\n",
    "print(page_count)"
   ]
  },
  {
   "cell_type": "code",
   "execution_count": null,
   "id": "7ac45b9f",
   "metadata": {
    "colab": {
     "base_uri": "https://localhost:8080/",
     "height": 363
    },
    "id": "7ac45b9f",
    "outputId": "1fd709eb-9179-4077-b9ac-83016325af89"
   },
   "outputs": [],
   "source": [
    "# 데이터프레임과 시리즈 합치기\n",
    "top10_with_page_count = pd.merge(top10_books, page_count,\n",
    "                                 left_index=True, right_index=True)\n",
    "top10_with_page_count"
   ]
  },
  {
   "cell_type": "markdown",
   "id": "8s0l24QgYL17",
   "metadata": {
    "id": "8s0l24QgYL17"
   },
   "source": [
    "## [연습] merge() 함수의 매개변수 이해하기"
   ]
  },
  {
   "cell_type": "code",
   "execution_count": null,
   "id": "J-0XefxwYLeN",
   "metadata": {
    "colab": {
     "base_uri": "https://localhost:8080/",
     "height": 143
    },
    "id": "J-0XefxwYLeN",
    "outputId": "c8e11217-f9f3-4ae9-cbf9-3fd58212820b"
   },
   "outputs": [],
   "source": [
    "df1 = pd.DataFrame({'col1': ['a','b','c'], 'col2': [1,2,3]})\n",
    "df1"
   ]
  },
  {
   "cell_type": "code",
   "execution_count": null,
   "id": "dcVtBloUYaF9",
   "metadata": {
    "colab": {
     "base_uri": "https://localhost:8080/",
     "height": 143
    },
    "id": "dcVtBloUYaF9",
    "outputId": "a62b75e0-ff7b-400d-913a-5875396285d0"
   },
   "outputs": [],
   "source": [
    "df2 = pd.DataFrame({'col1': ['a','b','d'], 'col3': [10,20,30]})\n",
    "df2"
   ]
  },
  {
   "cell_type": "code",
   "execution_count": null,
   "id": "byJy-hZUY2wT",
   "metadata": {
    "colab": {
     "base_uri": "https://localhost:8080/",
     "height": 112
    },
    "id": "byJy-hZUY2wT",
    "outputId": "7d465798-17de-4657-9b33-b647af85869e"
   },
   "outputs": [],
   "source": [
    "#df1.merge(df2, on = 'col1')"
   ]
  },
  {
   "cell_type": "code",
   "execution_count": null,
   "id": "0ec8fa22-bf53-48c9-8faa-a4241e48be50",
   "metadata": {},
   "outputs": [],
   "source": [
    "pd.merge(df1, df2, on='col1')\n"
   ]
  },
  {
   "cell_type": "code",
   "execution_count": null,
   "id": "3iFR29aJY6rp",
   "metadata": {
    "colab": {
     "base_uri": "https://localhost:8080/",
     "height": 143
    },
    "id": "3iFR29aJY6rp",
    "outputId": "1d1cd0d2-42bd-47ff-f0aa-90dff0cf2764"
   },
   "outputs": [],
   "source": [
    "pd.merge(df1, df2, how='left', on='col1')"
   ]
  },
  {
   "cell_type": "code",
   "execution_count": null,
   "id": "L02Mt5CvY_gJ",
   "metadata": {
    "colab": {
     "base_uri": "https://localhost:8080/",
     "height": 143
    },
    "id": "L02Mt5CvY_gJ",
    "outputId": "99f2f79f-b200-4b93-b8e5-e94b781c00d4"
   },
   "outputs": [],
   "source": [
    "pd.merge(df1, df2, how='right', on='col1')"
   ]
  },
  {
   "cell_type": "code",
   "execution_count": null,
   "id": "JWnkHNCUZDw7",
   "metadata": {
    "colab": {
     "base_uri": "https://localhost:8080/",
     "height": 175
    },
    "id": "JWnkHNCUZDw7",
    "outputId": "7f0d0269-f8ae-4cab-bf7b-9d8340232409"
   },
   "outputs": [],
   "source": [
    "pd.merge(df1, df2, how='outer', on='col1')"
   ]
  },
  {
   "cell_type": "code",
   "execution_count": null,
   "id": "4tWD1a58ZGrx",
   "metadata": {
    "colab": {
     "base_uri": "https://localhost:8080/",
     "height": 112
    },
    "id": "4tWD1a58ZGrx",
    "outputId": "942f7888-0de2-49bf-a983-95ba1c9e757e"
   },
   "outputs": [],
   "source": [
    "pd.merge(df1, df2, left_on='col1', right_on='col1')"
   ]
  },
  {
   "cell_type": "code",
   "execution_count": null,
   "id": "CXR4LsHlZfqQ",
   "metadata": {
    "colab": {
     "base_uri": "https://localhost:8080/",
     "height": 112
    },
    "id": "CXR4LsHlZfqQ",
    "outputId": "b21228c6-20d1-4609-bf08-9d5f3e0e1ecf"
   },
   "outputs": [],
   "source": [
    "pd.merge(df1, df2, left_on='col2', right_index=True)"
   ]
  }
 ],
 "metadata": {
  "colab": {
   "provenance": []
  },
  "kernelspec": {
   "display_name": "Python 3 (ipykernel)",
   "language": "python",
   "name": "python3"
  },
  "language_info": {
   "codemirror_mode": {
    "name": "ipython",
    "version": 3
   },
   "file_extension": ".py",
   "mimetype": "text/x-python",
   "name": "python",
   "nbconvert_exporter": "python",
   "pygments_lexer": "ipython3",
   "version": "3.12.0"
  }
 },
 "nbformat": 4,
 "nbformat_minor": 5
}
